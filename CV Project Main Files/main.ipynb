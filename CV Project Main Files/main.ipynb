{
 "cells": [
  {
   "cell_type": "code",
   "execution_count": 1,
   "metadata": {
    "ExecuteTime": {
     "end_time": "2023-12-13T10:04:00.392562100Z",
     "start_time": "2023-12-13T10:02:52.006295100Z"
    }
   },
   "outputs": [
    {
     "ename": "ModuleNotFoundError",
     "evalue": "No module named 'cv2'",
     "output_type": "error",
     "traceback": [
      "\u001b[1;31m---------------------------------------------------------------------------\u001b[0m",
      "\u001b[1;31mModuleNotFoundError\u001b[0m                       Traceback (most recent call last)",
      "Cell \u001b[1;32mIn[1], line 2\u001b[0m\n\u001b[0;32m      1\u001b[0m \u001b[38;5;28;01mfrom\u001b[39;00m \u001b[38;5;21;01mcommonfunctions\u001b[39;00m \u001b[38;5;28;01mimport\u001b[39;00m \u001b[38;5;241m*\u001b[39m\n\u001b[1;32m----> 2\u001b[0m \u001b[38;5;28;01mfrom\u001b[39;00m \u001b[38;5;21;01mpre_processing\u001b[39;00m \u001b[38;5;28;01mimport\u001b[39;00m \u001b[38;5;241m*\u001b[39m\n\u001b[0;32m      3\u001b[0m \u001b[38;5;28;01mfrom\u001b[39;00m \u001b[38;5;21;01mstaff\u001b[39;00m \u001b[38;5;28;01mimport\u001b[39;00m calculate_thickness_spacing, remove_staff_lines, coordinator\n\u001b[0;32m      4\u001b[0m \u001b[38;5;28;01mfrom\u001b[39;00m \u001b[38;5;21;01msegmenter\u001b[39;00m \u001b[38;5;28;01mimport\u001b[39;00m Segmenter\n",
      "File \u001b[1;32mC:\\Mozart-main (1)\\Mozart-main\\src\\pre_processing.py:4\u001b[0m\n\u001b[0;32m      2\u001b[0m \u001b[38;5;28;01mfrom\u001b[39;00m \u001b[38;5;21;01mskimage\u001b[39;00m\u001b[38;5;21;01m.\u001b[39;00m\u001b[38;5;21;01mtransform\u001b[39;00m \u001b[38;5;28;01mimport\u001b[39;00m probabilistic_hough_line, hough_line, rotate, hough_line_peaks\n\u001b[0;32m      3\u001b[0m \u001b[38;5;28;01mfrom\u001b[39;00m \u001b[38;5;21;01mskimage\u001b[39;00m\u001b[38;5;21;01m.\u001b[39;00m\u001b[38;5;21;01mfeature\u001b[39;00m \u001b[38;5;28;01mimport\u001b[39;00m corner_harris\n\u001b[1;32m----> 4\u001b[0m \u001b[38;5;28;01mimport\u001b[39;00m \u001b[38;5;21;01mcv2\u001b[39;00m\n\u001b[0;32m      5\u001b[0m \u001b[38;5;28;01mfrom\u001b[39;00m \u001b[38;5;21;01mstaff\u001b[39;00m \u001b[38;5;28;01mimport\u001b[39;00m \u001b[38;5;241m*\u001b[39m\n\u001b[0;32m      8\u001b[0m \u001b[38;5;28;01mdef\u001b[39;00m \u001b[38;5;21mdeskew\u001b[39m(image):\n",
      "\u001b[1;31mModuleNotFoundError\u001b[0m: No module named 'cv2'"
     ]
    }
   ],
   "source": [
    "from commonfunctions import *\n",
    "from pre_processing import *\n",
    "from staff import calculate_thickness_spacing, remove_staff_lines, coordinator\n",
    "from segmenter import Segmenter\n",
    "from connected_componentes import  *\n",
    "from fit import predict\n",
    "from box import Box\n",
    "import glob\n",
    "import cv2\n",
    "import pickle\n",
    "from imutils import resize as im_resize\n",
    "from scipy.ndimage import binary_fill_holes\n",
    "from skimage.morphology import skeletonize, thin"
   ]
  },
  {
   "cell_type": "code",
   "execution_count": 1,
   "metadata": {
    "ExecuteTime": {
     "start_time": "2023-12-13T10:04:00.389417200Z"
    }
   },
   "outputs": [],
   "source": [
    "img_name = '02'\n",
    "img_ext = 'PNG'\n",
    "imgs_path = '../testcases/'"
   ]
  },
  {
   "cell_type": "code",
   "execution_count": null,
   "metadata": {
    "ExecuteTime": {
     "start_time": "2023-12-13T10:04:00.389417200Z"
    }
   },
   "outputs": [],
   "source": [
    "label_map = {\n",
    "    0:{\n",
    "        0: 'N0'\n",
    "    },\n",
    "    1:{\n",
    "        0:'b2',\n",
    "        1:'a2'\n",
    "    },\n",
    "    2:{\n",
    "        0:'g2',\n",
    "        1:'f2'\n",
    "    },\n",
    "    3:{\n",
    "        0:'e2',\n",
    "        1:'d2'\n",
    "    },\n",
    "    4:{\n",
    "        0:'c2',\n",
    "        1:'b1'\n",
    "    },\n",
    "    5:{\n",
    "        0:'a1',\n",
    "        1:'g1'\n",
    "    },\n",
    "    6:{\n",
    "        0:'f1',\n",
    "        1:'e1'\n",
    "    },\n",
    "    7:{\n",
    "        0:'d1',\n",
    "        1:'c1'\n",
    "    }\n",
    "}"
   ]
  },
  {
   "cell_type": "code",
   "execution_count": null,
   "metadata": {
    "ExecuteTime": {
     "start_time": "2023-12-13T10:04:00.390452Z"
    }
   },
   "outputs": [],
   "source": [
    "img = io.imread(f'{imgs_path}{img_name}.{img_ext}')\n",
    "img = gray_img(img)\n",
    "show_images([img])\n",
    "# img = get_thresholded(img, threshold_otsu(img))\n",
    "horizontal = IsHorizontal(img)\n",
    "if horizontal == False:\n",
    "    theta = deskew(img)\n",
    "    img = rotation(img,theta)\n",
    "    img = get_gray(img)\n",
    "    img = get_thresholded(img, threshold_otsu(img))\n",
    "    img = get_closer(img)\n",
    "    horizontal = IsHorizontal(img)\n",
    "show_images([img])"
   ]
  },
  {
   "cell_type": "code",
   "execution_count": null,
   "metadata": {
    "ExecuteTime": {
     "start_time": "2023-12-13T10:04:00.390452Z"
    }
   },
   "outputs": [],
   "source": [
    "#img = io.imread('testcases/test-set-scanned/test-cases/02.PNG')\n",
    "print(img.shape)\n",
    "# if img.shape[1] < 1300:\n",
    "#     img = resize(img, (img.shape[0], 2000))\n",
    "# if img.shape[0] > 250:\n",
    "#     img = resize(img, (250, img.shape[1]))\n",
    "# print(img.shape)\n",
    "original = img.copy()\n",
    "gray = get_gray(img)\n",
    "bin_img = get_thresholded(gray, threshold_otsu(gray))\n",
    "show_images([gray, bin_img], ['Gray', 'Binary'])"
   ]
  },
  {
   "cell_type": "code",
   "execution_count": null,
   "metadata": {
    "ExecuteTime": {
     "start_time": "2023-12-13T10:04:00.391510400Z"
    }
   },
   "outputs": [],
   "source": [
    "segmenter = Segmenter(bin_img)\n",
    "imgs_with_staff = segmenter.regions_with_staff\n",
    "imgs_without_staff = segmenter.regions_without_staff\n",
    "\n",
    "for i, img in enumerate(imgs_without_staff):\n",
    "    show_images([img, imgs_with_staff[i]])"
   ]
  },
  {
   "cell_type": "code",
   "execution_count": null,
   "metadata": {
    "ExecuteTime": {
     "end_time": "2023-12-13T10:04:00.414747300Z",
     "start_time": "2023-12-13T10:04:00.394610200Z"
    },
    "tags": []
   },
   "outputs": [],
   "source": [
    "imgs_spacing = []\n",
    "imgs_rows = []\n",
    "coord_imgs = []\n",
    "for i, img in enumerate(imgs_with_staff):\n",
    "    spacing, rows, no_staff_img = coordinator(img,horizontal)\n",
    "    imgs_rows.append(rows)\n",
    "    imgs_spacing.append(spacing)\n",
    "    coord_imgs.append(no_staff_img)"
   ]
  },
  {
   "cell_type": "code",
   "execution_count": null,
   "metadata": {
    "ExecuteTime": {
     "start_time": "2023-12-13T10:04:00.394610200Z"
    }
   },
   "outputs": [],
   "source": [
    "def estim(c, idx):\n",
    "    print('estim idx: ', idx)\n",
    "    spacing = imgs_spacing[idx]\n",
    "    rows = imgs_rows[idx]\n",
    "    margin = 1+(spacing/4)\n",
    "    for index,line in enumerate (rows):\n",
    "        if c >= line - margin and c <= line + margin:\n",
    "            return index+1, 0\n",
    "        elif c >= line + margin and c <= line + 3*margin:\n",
    "            return index+1, 1\n",
    "    return 0 , 0 "
   ]
  },
  {
   "cell_type": "code",
   "execution_count": null,
   "metadata": {
    "ExecuteTime": {
     "start_time": "2023-12-13T10:04:00.395610100Z"
    }
   },
   "outputs": [],
   "source": [
    "def draw_staff(img,row_positions):\n",
    "    image = np.copy(img)\n",
    "    for x in range (len(row_positions)):\n",
    "        print(int(row_positions[x]))\n",
    "        image[int(row_positions[x]),:] = 0\n",
    "    return image\n",
    "\n",
    "for i, img in enumerate(coord_imgs):\n",
    "    new_img = draw_staff(img,imgs_rows[i])\n",
    "    show_images([img,new_img], ['Binary','new'])  \n",
    "    cv2.imwrite(f'{img_name}_without_staff_{i}.png', np.array(255*img).astype(np.uint8))\n",
    "    cv2.imwrite(f'{img_name}_with_new_staff_{i}.png', np.array(255*new_img).astype(np.uint8))"
   ]
  },
  {
   "cell_type": "code",
   "execution_count": null,
   "metadata": {
    "ExecuteTime": {
     "start_time": "2023-12-13T10:04:00.395610100Z"
    }
   },
   "outputs": [],
   "source": [
    "def get_note_name(prev, octave, duration):\n",
    "    if duration in ['4', 'a_4']:\n",
    "        return f'{octave[0]}{prev}{octave[1]}/4'\n",
    "    elif duration in ['8', '8_b_n', '8_b_r', 'a_8']:\n",
    "        return f'{octave[0]}{prev}{octave[1]}/8'\n",
    "    elif duration in ['16', '16_b_n', '16_b_r', 'a_16']:\n",
    "        return f'{octave[0]}{prev}{octave[1]}/16'\n",
    "    elif duration in ['32', '32_b_n', '32_b_r', 'a_32']:\n",
    "        return f'{octave[0]}{prev}{octave[1]}/32'\n",
    "    elif duration in ['2', 'a_2']:\n",
    "        return f'{octave[0]}{prev}{octave[1]}/2'\n",
    "    elif duration in ['1', 'a_1']:\n",
    "        return f'{octave[0]}{prev}{octave[1]}/1'"
   ]
  },
  {
   "cell_type": "code",
   "execution_count": null,
   "metadata": {
    "ExecuteTime": {
     "start_time": "2023-12-13T10:04:00.396609400Z"
    }
   },
   "outputs": [],
   "source": [
    "def filter_beams(prims, prim_with_staff, bounds):\n",
    "    n_bounds = []\n",
    "    n_prims = []\n",
    "    n_prim_with_staff = []\n",
    "    for i, prim in enumerate(prims):\n",
    "        if prim.shape[1] >= 2*prim.shape[0]:\n",
    "            print('filter: ', prim.shape)\n",
    "            continue\n",
    "        else:\n",
    "            n_bounds.append(bounds[i])\n",
    "            n_prims.append(prims[i])\n",
    "            n_prim_with_staff.append(prim_with_staff[i])\n",
    "    return n_prims, n_prim_with_staff, n_bounds"
   ]
  },
  {
   "cell_type": "code",
   "execution_count": null,
   "metadata": {
    "ExecuteTime": {
     "start_time": "2023-12-13T10:04:00.397168200Z"
    }
   },
   "outputs": [],
   "source": [
    "def get_chord_notation(chord_list):\n",
    "    chord_res = \"{\"\n",
    "    for chord_note in chord_list:\n",
    "        chord_res += (str(chord_note) + \",\")\n",
    "    chord_res = chord_res[:-1]\n",
    "    chord_res += \"}\"\n",
    "    \n",
    "    return chord_res"
   ]
  },
  {
   "cell_type": "code",
   "execution_count": null,
   "metadata": {
    "ExecuteTime": {
     "start_time": "2023-12-13T10:04:00.397168200Z"
    }
   },
   "outputs": [],
   "source": [
    "black_names = ['4', '8', '8_b_n', '8_b_r', '16', '16_b_n', '16_b_r', '32', '32_b_n', '32_b_r', 'a_4', 'a_8', 'a_16', 'a_32', 'chord']\n",
    "ring_names = ['2', 'a_2']\n",
    "whole_names = ['1', 'a_1']\n",
    "disk_size = segmenter.most_common / 4\n",
    "print(len(coord_imgs))\n",
    "for i, img in enumerate(coord_imgs):\n",
    "    show_images([img])\n",
    "    res = []\n",
    "    prev = ''\n",
    "    time_name = ''\n",
    "    primitives, prim_with_staff, boundary = get_connected_components(img, imgs_with_staff[i])\n",
    "    print(boundary)  \n",
    "    detected = cv2.cvtColor(np.array(255*img.copy()).astype(np.uint8),cv2.COLOR_GRAY2RGB)\n",
    "    for j, prim in enumerate(primitives):\n",
    "        minr, minc, maxr, maxc = boundary[j]\n",
    "\n",
    "        prim = binary_opening(prim, square(segmenter.most_common-imgs_spacing[i]))\n",
    "        saved_img = (255*(1 - prim)).astype(np.uint8)\n",
    "        labels = predict(saved_img)\n",
    "        octave = None\n",
    "        label = labels[0]\n",
    "\n",
    "        cv2.rectangle(detected, (minc, minr), (maxc, maxr), (0, 0, 255), 2)\n",
    "        cv2.putText(detected, label, (minc-2, minr-2), cv2.FONT_HERSHEY_SIMPLEX, 0.9, (0, 0, 255), 2)\n",
    "\n",
    "        if label in black_names:\n",
    "            test_img = np.copy(prim_with_staff[j])\n",
    "            test_img = binary_dilation(test_img, disk(disk_size))\n",
    "            show_images([prim_with_staff[j], test_img], ['Original', 'Connected Component with staff'])\n",
    "            comps, comp_w_staff, bounds = get_connected_components(test_img, prim_with_staff[j])\n",
    "            comps, comp_w_staff, bounds = filter_beams(comps, comp_w_staff, bounds)\n",
    "            bounds = [np.array(bound)+disk_size-2 for bound in bounds]\n",
    "\n",
    "            if len(bounds) > 1 and label not in ['8_b_n', '8_b_r', '16_b_n', '16_b_r', '32_b_n', '32_b_r']:\n",
    "                l_res = []\n",
    "                bounds = sorted(bounds, key= lambda b : -b[2])\n",
    "                for k in range(len(bounds)):\n",
    "                    print(\"Bound\")\n",
    "                    idx, p = estim(boundary[j][0]+bounds[k][2], i)\n",
    "                    l_res.append(f'{label_map[idx][p]}/4')\n",
    "                    if k+1 < len(bounds) and (bounds[k][2]-bounds[k+1][2]) > 1.5*imgs_spacing[i]:\n",
    "                        print(\"IF COND\", bounds[k][2]-bounds[k+1][2], 1.25*imgs_spacing[i])\n",
    "                        idx, p = estim(boundary[j][0]+bounds[k][2]-imgs_spacing[i]/2, i)\n",
    "                        l_res.append(f'{label_map[idx][p]}/4')\n",
    "                res.append(sorted(l_res))\n",
    "            else:\n",
    "                for bbox in bounds:\n",
    "                    c = bbox[2]+boundary[j][0]\n",
    "                    line_idx, p = estim(int(c), i)\n",
    "                    l = label_map[line_idx][p]\n",
    "                    res.append(get_note_name(prev, l, label))\n",
    "                    print(c)\n",
    "                    print(l)\n",
    "        elif label in ring_names:\n",
    "            head_img = 1-binary_fill_holes(1-prim)\n",
    "            head_img = binary_closing(head_img, disk(disk_size))\n",
    "            comps, comp_w_staff, bounds = get_connected_components(head_img, prim_with_staff[j])\n",
    "            for bbox in bounds:\n",
    "                c = bbox[2]+boundary[j][0]\n",
    "                line_idx, p = estim(int(c), i)\n",
    "                l = label_map[line_idx][p]\n",
    "                res.append(get_note_name(prev, l, label))\n",
    "                print(c)\n",
    "                print(l)\n",
    "        elif label in whole_names:\n",
    "            c = boundary[j][2]\n",
    "            line_idx, p = estim(int(c), i)\n",
    "            l = label_map[line_idx][p]\n",
    "            res.append(get_note_name(prev, l, label))\n",
    "            print(c)\n",
    "            print(l)\n",
    "        elif label in ['bar', 'bar_b', 'clef', 'clef_b', 'natural', 'natural_b'] or label in []:\n",
    "            show_images([prim], [label])\n",
    "            continue\n",
    "        elif label in ['#', '#_b']:\n",
    "            if prim.shape[0] == prim.shape [1]:\n",
    "                prev = '##'\n",
    "            else: \n",
    "                prev = '#'\n",
    "        elif label in ['cross']:\n",
    "            prev = '##'\n",
    "        elif label in ['flat', 'flat_b']:\n",
    "            if prim.shape[1] >= 0.5*prim.shape[0]:\n",
    "                prev = '&&'\n",
    "            else:\n",
    "                prev = '&'\n",
    "        elif label in ['dot', 'dot_b', 'p', 't24_b']:\n",
    "            if len(res) == 0 or (len(res) > 0 and res[-1] in ['flat', 'flat_b', 'cross', '#', '#_b', 't24', 't24_b', 't44', 't44_b']):\n",
    "                continue\n",
    "            res[-1] += '.'\n",
    "        elif label in ['t2', 't4']:\n",
    "            time_name += label[1]\n",
    "        elif label in []:\n",
    "            time_name = label[1]+label[2]\n",
    "        elif label == 'chord':\n",
    "            print('Chord')\n",
    "            img = thin(1-prim.copy(), max_iter=20)\n",
    "            head_img = binary_closing(1-img, disk(disk_size))\n",
    "        if label not in ['flat', 'flat_b', 'cross', '#', '#_b']:\n",
    "            prev = ''\n",
    "        show_images([prim], [label])\n",
    "        if len(time_name) == 2:\n",
    "            res = [\"\\\\\" + \"meter<\\\"\" + str(time_name[0]) + \"/\" + str(time_name[1])+\"\\\">\"] + res\n",
    "    print(res) \n",
    "    show_images([detected], ['Detected'])\n",
    "    cv2.imwrite(f'{img_name}_detected_{i}.png', detected)"
   ]
  },
  {
   "cell_type": "code",
   "execution_count": null,
   "metadata": {
    "ExecuteTime": {
     "start_time": "2023-12-13T10:04:00.397168200Z"
    }
   },
   "outputs": [],
   "source": []
  }
 ],
 "metadata": {
  "kernelspec": {
   "display_name": "Python 3 (ipykernel)",
   "language": "python",
   "name": "python3"
  },
  "language_info": {
   "codemirror_mode": {
    "name": "ipython",
    "version": 3
   },
   "file_extension": ".py",
   "mimetype": "text/x-python",
   "name": "python",
   "nbconvert_exporter": "python",
   "pygments_lexer": "ipython3",
   "version": "3.12.1"
  }
 },
 "nbformat": 4,
 "nbformat_minor": 4
}
